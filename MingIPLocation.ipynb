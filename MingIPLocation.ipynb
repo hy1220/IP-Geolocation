{
 "cells": [
  {
   "cell_type": "code",
   "execution_count": 61,
   "metadata": {
    "collapsed": true
   },
   "outputs": [],
   "source": [
    "from bs4 import BeautifulSoup\n",
    "import urllib\n",
    "import re\n",
    "import os"
   ]
  },
  {
   "cell_type": "code",
   "execution_count": 112,
   "metadata": {
    "collapsed": true
   },
   "outputs": [],
   "source": [
    "def download_page(url):\n",
    "    return urllib.request.urlopen(url).read().decode(\"utf-8\")\n",
    "    "
   ]
  },
  {
   "cell_type": "code",
   "execution_count": 111,
   "metadata": {
    "collapsed": true
   },
   "outputs": [],
   "source": [
    "url=\"https://www.boip.net/ipv4/117.16.4.5\""
   ]
  },
  {
   "cell_type": "code",
   "execution_count": 113,
   "metadata": {
    "collapsed": true
   },
   "outputs": [],
   "source": [
    "page=download_page(url)"
   ]
  },
  {
   "cell_type": "code",
   "execution_count": 114,
   "metadata": {
    "collapsed": true
   },
   "outputs": [],
   "source": [
    "soup=BeautifulSoup(page,\"html.parser\")\n",
    "divs_r=soup.find_all(attrs={\"class\",\"r\"})\n",
    "divs_l=soup.find_all(attrs={\"class\",\"l\"})"
   ]
  },
  {
   "cell_type": "code",
   "execution_count": 120,
   "metadata": {
    "scrolled": true
   },
   "outputs": [
    {
     "name": "stdout",
     "output_type": "stream",
     "text": [
      "IPv4地址: 117.16.4.5\n",
      "纯真数据: 韩国 - 教育网\n",
      "网络类型: Cable/DSL\n",
      "ASN编号: AS9754\n",
      "反向DNS: 117.16.4.5\n",
      "RIR: APNIC.NET 亚太管理机构 - 亚洲太平洋区域\n",
      "国家: \n",
      "  - 韩国  Republic of Korea\t\n",
      "区域: \n",
      "省份:    - \n",
      "城市:  \n",
      "区县: \n",
      "邮编: 无纪录\n",
      "运营商:   Korean Education Network\n",
      "所有者: CHOSUN UNIVERSITY\n",
      "经纬度: 经度:126.98  纬度:37.57\n",
      "RBL状态: 正常\n",
      "时区信息: UTC - UTC标准时间\n",
      "dict_values(['117.16.4.5', '韩国 - 教育网', 'Cable/DSL', 'AS9754', '117.16.4.5', 'APNIC.NET 亚太管理机构 - 亚洲太平洋区域', '- 韩国  Republic of Korea', '', '-', '', '', '无纪录', 'Korean Education Network', 'CHOSUN UNIVERSITY', '经度:126.98  纬度:37.57', '正常', 'UTC - UTC标准时间'])\n"
     ]
    }
   ],
   "source": [
    "result={}\n",
    "for item_r,item_l in zip(divs_r,divs_l):\n",
    "    result[str(item_l.getText()).strip()]=str(item_r.getText()).strip()\n",
    "    print(item_l.getText(),item_r.getText())\n",
    "print(result.values())"
   ]
  },
  {
   "cell_type": "code",
   "execution_count": 14,
   "metadata": {},
   "outputs": [
    {
     "name": "stdout",
     "output_type": "stream",
     "text": [
      "117.16.4.5\n",
      "韩国 - 教育网\n",
      "Cable/DSL\n",
      "AS9754\n",
      "117.16.4.5\n",
      "APNIC.NET 亚太管理机构 - 亚洲太平洋区域\n",
      "- 韩国  Republic of Korea\n",
      "\n",
      "-\n",
      "\n",
      "\n",
      "无纪录\n",
      "Korean Education Network\n",
      "CHOSUN UNIVERSITY\n",
      "经度:126.98  纬度:37.57\n",
      "正常\n",
      "UTC - UTC标准时间\n"
     ]
    }
   ],
   "source": [
    "for item_r,item_l in zip(divs_r,divs_l):\n",
    "   print(str(item_r.getText()).strip())"
   ]
  },
  {
   "cell_type": "code",
   "execution_count": 15,
   "metadata": {
    "collapsed": true
   },
   "outputs": [],
   "source": [
    "import pandas as pd\n",
    "import numpy as np"
   ]
  },
  {
   "cell_type": "code",
   "execution_count": 32,
   "metadata": {},
   "outputs": [],
   "source": [
    "ip_text=pd.read_csv('c_BN.txt',delimiter='\\t',header=None)\n",
    "# ip_text2=np.loadtxt(r'c_BN.txt',delimiter='\\t')"
   ]
  },
  {
   "cell_type": "code",
   "execution_count": 33,
   "metadata": {},
   "outputs": [
    {
     "data": {
      "text/html": [
       "<div>\n",
       "<style>\n",
       "    .dataframe thead tr:only-child th {\n",
       "        text-align: right;\n",
       "    }\n",
       "\n",
       "    .dataframe thead th {\n",
       "        text-align: left;\n",
       "    }\n",
       "\n",
       "    .dataframe tbody tr th {\n",
       "        vertical-align: top;\n",
       "    }\n",
       "</style>\n",
       "<table border=\"1\" class=\"dataframe\">\n",
       "  <thead>\n",
       "    <tr style=\"text-align: right;\">\n",
       "      <th></th>\n",
       "      <th>0</th>\n",
       "      <th>1</th>\n",
       "      <th>2</th>\n",
       "      <th>3</th>\n",
       "    </tr>\n",
       "  </thead>\n",
       "  <tbody>\n",
       "    <tr>\n",
       "      <th>0</th>\n",
       "      <td>156.31.0.0</td>\n",
       "      <td>156.31.255.255</td>\n",
       "      <td>156.31.0.0/16</td>\n",
       "      <td>65536</td>\n",
       "    </tr>\n",
       "    <tr>\n",
       "      <th>1</th>\n",
       "      <td>158.161.0.0</td>\n",
       "      <td>158.161.255.255</td>\n",
       "      <td>158.161.0.0/16</td>\n",
       "      <td>65536</td>\n",
       "    </tr>\n",
       "    <tr>\n",
       "      <th>2</th>\n",
       "      <td>119.160.128.0</td>\n",
       "      <td>119.160.191.255</td>\n",
       "      <td>119.160.128.0/18</td>\n",
       "      <td>16384</td>\n",
       "    </tr>\n",
       "    <tr>\n",
       "      <th>3</th>\n",
       "      <td>61.6.192.0</td>\n",
       "      <td>61.6.255.255</td>\n",
       "      <td>61.6.192.0/18</td>\n",
       "      <td>16384</td>\n",
       "    </tr>\n",
       "    <tr>\n",
       "      <th>4</th>\n",
       "      <td>202.160.0.0</td>\n",
       "      <td>202.160.47.255</td>\n",
       "      <td>202.160.0.0/18</td>\n",
       "      <td>12288</td>\n",
       "    </tr>\n",
       "    <tr>\n",
       "      <th>5</th>\n",
       "      <td>202.152.64.0</td>\n",
       "      <td>202.152.95.255</td>\n",
       "      <td>202.152.64.0/19</td>\n",
       "      <td>8192</td>\n",
       "    </tr>\n",
       "    <tr>\n",
       "      <th>6</th>\n",
       "      <td>202.93.208.0</td>\n",
       "      <td>202.93.223.255</td>\n",
       "      <td>202.93.208.0/20</td>\n",
       "      <td>4096</td>\n",
       "    </tr>\n",
       "    <tr>\n",
       "      <th>7</th>\n",
       "      <td>118.103.248.0</td>\n",
       "      <td>118.103.255.255</td>\n",
       "      <td>118.103.248.0/21</td>\n",
       "      <td>2048</td>\n",
       "    </tr>\n",
       "    <tr>\n",
       "      <th>8</th>\n",
       "      <td>103.230.64.0</td>\n",
       "      <td>103.230.67.255</td>\n",
       "      <td>103.230.64.0/22</td>\n",
       "      <td>1024</td>\n",
       "    </tr>\n",
       "    <tr>\n",
       "      <th>9</th>\n",
       "      <td>103.224.96.0</td>\n",
       "      <td>103.224.99.255</td>\n",
       "      <td>103.224.96.0/22</td>\n",
       "      <td>1024</td>\n",
       "    </tr>\n",
       "    <tr>\n",
       "      <th>10</th>\n",
       "      <td>103.42.208.0</td>\n",
       "      <td>103.42.211.255</td>\n",
       "      <td>103.42.208.0/22</td>\n",
       "      <td>1024</td>\n",
       "    </tr>\n",
       "    <tr>\n",
       "      <th>11</th>\n",
       "      <td>103.20.24.0</td>\n",
       "      <td>103.20.27.255</td>\n",
       "      <td>103.20.24.0/22</td>\n",
       "      <td>1024</td>\n",
       "    </tr>\n",
       "    <tr>\n",
       "      <th>12</th>\n",
       "      <td>43.225.136.0</td>\n",
       "      <td>43.225.139.255</td>\n",
       "      <td>43.225.136.0/22</td>\n",
       "      <td>1024</td>\n",
       "    </tr>\n",
       "    <tr>\n",
       "      <th>13</th>\n",
       "      <td>43.251.128.0</td>\n",
       "      <td>43.251.131.255</td>\n",
       "      <td>43.251.128.0/22</td>\n",
       "      <td>1024</td>\n",
       "    </tr>\n",
       "    <tr>\n",
       "      <th>14</th>\n",
       "      <td>43.225.40.0</td>\n",
       "      <td>43.225.43.255</td>\n",
       "      <td>43.225.40.0/22</td>\n",
       "      <td>1024</td>\n",
       "    </tr>\n",
       "    <tr>\n",
       "      <th>15</th>\n",
       "      <td>103.4.188.0</td>\n",
       "      <td>103.4.191.255</td>\n",
       "      <td>103.4.188.0/22</td>\n",
       "      <td>1024</td>\n",
       "    </tr>\n",
       "    <tr>\n",
       "      <th>16</th>\n",
       "      <td>103.16.120.0</td>\n",
       "      <td>103.16.123.255</td>\n",
       "      <td>103.16.120.0/22</td>\n",
       "      <td>1024</td>\n",
       "    </tr>\n",
       "    <tr>\n",
       "      <th>17</th>\n",
       "      <td>103.17.24.0</td>\n",
       "      <td>103.17.27.255</td>\n",
       "      <td>103.17.24.0/22</td>\n",
       "      <td>1024</td>\n",
       "    </tr>\n",
       "    <tr>\n",
       "      <th>18</th>\n",
       "      <td>103.18.172.0</td>\n",
       "      <td>103.18.175.255</td>\n",
       "      <td>103.18.172.0/22</td>\n",
       "      <td>1024</td>\n",
       "    </tr>\n",
       "    <tr>\n",
       "      <th>19</th>\n",
       "      <td>103.12.208.0</td>\n",
       "      <td>103.12.209.255</td>\n",
       "      <td>103.12.208.0/23</td>\n",
       "      <td>512</td>\n",
       "    </tr>\n",
       "    <tr>\n",
       "      <th>20</th>\n",
       "      <td>202.12.26.0</td>\n",
       "      <td>202.12.26.255</td>\n",
       "      <td>202.12.26.0/24</td>\n",
       "      <td>256</td>\n",
       "    </tr>\n",
       "    <tr>\n",
       "      <th>21</th>\n",
       "      <td>202.59.230.0</td>\n",
       "      <td>202.59.230.255</td>\n",
       "      <td>202.59.230.0/24</td>\n",
       "      <td>256</td>\n",
       "    </tr>\n",
       "    <tr>\n",
       "      <th>22</th>\n",
       "      <td>202.90.36.0</td>\n",
       "      <td>202.90.36.255</td>\n",
       "      <td>202.90.36.0/24</td>\n",
       "      <td>256</td>\n",
       "    </tr>\n",
       "    <tr>\n",
       "      <th>23</th>\n",
       "      <td>192.94.122.0</td>\n",
       "      <td>192.94.122.255</td>\n",
       "      <td>192.94.122.0/24</td>\n",
       "      <td>256</td>\n",
       "    </tr>\n",
       "  </tbody>\n",
       "</table>\n",
       "</div>"
      ],
      "text/plain": [
       "                0                1                 2      3\n",
       "0      156.31.0.0   156.31.255.255     156.31.0.0/16  65536\n",
       "1     158.161.0.0  158.161.255.255    158.161.0.0/16  65536\n",
       "2   119.160.128.0  119.160.191.255  119.160.128.0/18  16384\n",
       "3      61.6.192.0     61.6.255.255     61.6.192.0/18  16384\n",
       "4     202.160.0.0   202.160.47.255    202.160.0.0/18  12288\n",
       "5    202.152.64.0   202.152.95.255   202.152.64.0/19   8192\n",
       "6    202.93.208.0   202.93.223.255   202.93.208.0/20   4096\n",
       "7   118.103.248.0  118.103.255.255  118.103.248.0/21   2048\n",
       "8    103.230.64.0   103.230.67.255   103.230.64.0/22   1024\n",
       "9    103.224.96.0   103.224.99.255   103.224.96.0/22   1024\n",
       "10   103.42.208.0   103.42.211.255   103.42.208.0/22   1024\n",
       "11    103.20.24.0    103.20.27.255    103.20.24.0/22   1024\n",
       "12   43.225.136.0   43.225.139.255   43.225.136.0/22   1024\n",
       "13   43.251.128.0   43.251.131.255   43.251.128.0/22   1024\n",
       "14    43.225.40.0    43.225.43.255    43.225.40.0/22   1024\n",
       "15    103.4.188.0    103.4.191.255    103.4.188.0/22   1024\n",
       "16   103.16.120.0   103.16.123.255   103.16.120.0/22   1024\n",
       "17    103.17.24.0    103.17.27.255    103.17.24.0/22   1024\n",
       "18   103.18.172.0   103.18.175.255   103.18.172.0/22   1024\n",
       "19   103.12.208.0   103.12.209.255   103.12.208.0/23    512\n",
       "20    202.12.26.0    202.12.26.255    202.12.26.0/24    256\n",
       "21   202.59.230.0   202.59.230.255   202.59.230.0/24    256\n",
       "22    202.90.36.0    202.90.36.255    202.90.36.0/24    256\n",
       "23   192.94.122.0   192.94.122.255   192.94.122.0/24    256"
      ]
     },
     "execution_count": 33,
     "metadata": {},
     "output_type": "execute_result"
    }
   ],
   "source": [
    "ip_text"
   ]
  },
  {
   "cell_type": "code",
   "execution_count": 48,
   "metadata": {},
   "outputs": [
    {
     "data": {
      "text/plain": [
       "[\"['156.31.0.0\", \"16']\"]"
      ]
     },
     "execution_count": 48,
     "metadata": {},
     "output_type": "execute_result"
    }
   ],
   "source": [
    "td=ip_text.iloc[:1,:]\n",
    "td=td.values[:,:]\n",
    "str(td[:,2]).split('/')"
   ]
  },
  {
   "cell_type": "code",
   "execution_count": 58,
   "metadata": {
    "collapsed": true
   },
   "outputs": [],
   "source": [
    "import socket\n",
    "import struct\n",
    "\n",
    "def ip2long(ip):\n",
    "    return struct.unpack(\"!I\", socket.inet_aton(ip))[0]\n",
    "def long2ip(lint):\n",
    "    return socket.inet_ntoa(struct.pack(\"!I\", lint))"
   ]
  },
  {
   "cell_type": "code",
   "execution_count": 70,
   "metadata": {},
   "outputs": [
    {
     "name": "stdout",
     "output_type": "stream",
     "text": [
      "['156.31.0.0' '156.31.255.255' '156.31.0.0/16' 65536]\n",
      "['158.161.0.0' '158.161.255.255' '158.161.0.0/16' 65536]\n",
      "['119.160.128.0' '119.160.191.255' '119.160.128.0/18' 16384]\n",
      "['61.6.192.0' '61.6.255.255' '61.6.192.0/18' 16384]\n",
      "['202.160.0.0' '202.160.47.255' '202.160.0.0/18' 12288]\n",
      "['202.152.64.0' '202.152.95.255' '202.152.64.0/19' 8192]\n",
      "['202.93.208.0' '202.93.223.255' '202.93.208.0/20' 4096]\n",
      "['118.103.248.0' '118.103.255.255' '118.103.248.0/21' 2048]\n",
      "['103.230.64.0' '103.230.67.255' '103.230.64.0/22' 1024]\n",
      "['103.224.96.0' '103.224.99.255' '103.224.96.0/22' 1024]\n",
      "['103.42.208.0' '103.42.211.255' '103.42.208.0/22' 1024]\n",
      "['103.20.24.0' '103.20.27.255' '103.20.24.0/22' 1024]\n",
      "['43.225.136.0' '43.225.139.255' '43.225.136.0/22' 1024]\n",
      "['43.251.128.0' '43.251.131.255' '43.251.128.0/22' 1024]\n",
      "['43.225.40.0' '43.225.43.255' '43.225.40.0/22' 1024]\n",
      "['103.4.188.0' '103.4.191.255' '103.4.188.0/22' 1024]\n",
      "['103.16.120.0' '103.16.123.255' '103.16.120.0/22' 1024]\n",
      "['103.17.24.0' '103.17.27.255' '103.17.24.0/22' 1024]\n",
      "['103.18.172.0' '103.18.175.255' '103.18.172.0/22' 1024]\n",
      "['103.12.208.0' '103.12.209.255' '103.12.208.0/23' 512]\n",
      "['202.12.26.0' '202.12.26.255' '202.12.26.0/24' 256]\n",
      "['202.59.230.0' '202.59.230.255' '202.59.230.0/24' 256]\n",
      "['202.90.36.0' '202.90.36.255' '202.90.36.0/24' 256]\n",
      "['192.94.122.0' '192.94.122.255' '192.94.122.0/24' 256]\n"
     ]
    }
   ],
   "source": [
    "dv=ip_text.values\n",
    "for item in dv:\n",
    "    print (item)"
   ]
  },
  {
   "cell_type": "code",
   "execution_count": 69,
   "metadata": {},
   "outputs": [
    {
     "data": {
      "text/plain": [
       "('158.161.0.0', '158.161.255.255', '158.161.0.0/16', 65536)"
      ]
     },
     "execution_count": 69,
     "metadata": {},
     "output_type": "execute_result"
    }
   ],
   "source": [
    "dv[1][0],dv[1][1],dv[1][2],dv[1][3]"
   ]
  },
  {
   "cell_type": "code",
   "execution_count": 60,
   "metadata": {},
   "outputs": [
    {
     "name": "stdout",
     "output_type": "stream",
     "text": [
      "156.31.255.254\n",
      "156.31.255.255\n"
     ]
    }
   ],
   "source": [
    "st=dv[0][0]\n",
    "se=dv[0][1]\n",
    "range_iter=65536\n",
    "st_ip2lint=ip2long(st)\n",
    "se_ip2lint=ip2long(se)\n",
    "for i in range(65534,65536):\n",
    "    prectical_ip=st_ip2lint+i\n",
    "    print(long2ip(prectical_ip))"
   ]
  },
  {
   "cell_type": "code",
   "execution_count": 109,
   "metadata": {
    "collapsed": true
   },
   "outputs": [],
   "source": [
    "class GeneratorIP:\n",
    "    def __init__(self,fileName,delimiter=\"\\t\",header=None):\n",
    "        self.fileName=fileName\n",
    "        self.delimiter=delimiter\n",
    "        self.header=header\n",
    "        self.ip_list=[]\n",
    "    def __isFile(self):\n",
    "        if os.path.exists(self.fileName):\n",
    "            return True\n",
    "        else:\n",
    "            print(\"Invalid file paths\")\n",
    "            return False\n",
    "    def read_form_text(self):\n",
    "        if self.__isFile():\n",
    "            data=pd.read_csv(self.fileName,delimiter=self.delimiter,header=self.header)\n",
    "            ipList=self.__process_data(data.values)\n",
    "            print(len(ipList))\n",
    "            return ipList\n",
    "        else:\n",
    "            pass\n",
    "    def __process_data(self,data):\n",
    "        ip_list=[]\n",
    "        for item in data:\n",
    "            ip_list.append([item[0],item[3]])\n",
    "        return ip_list\n",
    "    def get_ipList(self):\n",
    "        return self.ip_list"
   ]
  },
  {
   "cell_type": "code",
   "execution_count": 110,
   "metadata": {},
   "outputs": [
    {
     "name": "stdout",
     "output_type": "stream",
     "text": [
      "24\n"
     ]
    },
    {
     "data": {
      "text/plain": [
       "[['156.31.0.0', 65536],\n",
       " ['158.161.0.0', 65536],\n",
       " ['119.160.128.0', 16384],\n",
       " ['61.6.192.0', 16384],\n",
       " ['202.160.0.0', 12288],\n",
       " ['202.152.64.0', 8192],\n",
       " ['202.93.208.0', 4096],\n",
       " ['118.103.248.0', 2048],\n",
       " ['103.230.64.0', 1024],\n",
       " ['103.224.96.0', 1024],\n",
       " ['103.42.208.0', 1024],\n",
       " ['103.20.24.0', 1024],\n",
       " ['43.225.136.0', 1024],\n",
       " ['43.251.128.0', 1024],\n",
       " ['43.225.40.0', 1024],\n",
       " ['103.4.188.0', 1024],\n",
       " ['103.16.120.0', 1024],\n",
       " ['103.17.24.0', 1024],\n",
       " ['103.18.172.0', 1024],\n",
       " ['103.12.208.0', 512],\n",
       " ['202.12.26.0', 256],\n",
       " ['202.59.230.0', 256],\n",
       " ['202.90.36.0', 256],\n",
       " ['192.94.122.0', 256]]"
      ]
     },
     "execution_count": 110,
     "metadata": {},
     "output_type": "execute_result"
    }
   ],
   "source": [
    "gip=GeneratorIP(\"c_BN.txt\")\n",
    "lists=gip.read_form_text()\n",
    "lists"
   ]
  },
  {
   "cell_type": "code",
   "execution_count": 74,
   "metadata": {},
   "outputs": [
    {
     "data": {
      "text/plain": [
       "1"
      ]
     },
     "execution_count": 74,
     "metadata": {},
     "output_type": "execute_result"
    }
   ],
   "source": [
    "class IPLocationSpider:\n",
    "    def __ini__(self,base_url):\n",
    "        self.url=base_url\n",
    "    def __down_page(self):\n",
    "        \n",
    "        req=urllib.request.Request(url=,headers=)\n",
    "        res=urllib.request.urlopen(req,timeout=10)\n",
    "        data=res.decode(\"utf-8\")\n",
    "    def __parse_data(self,htmls):\n",
    "        result={}\n",
    "        soup=BeautifulSoup(htmls,\"html.parser\")\n",
    "        divs_r=soup.find_all(attrs={\"class\",\"r\"})\n",
    "        divs_l=soup.find_all(attrs={\"class\",\"l\"})\n",
    "        for item_r,item_l in zip(divs_r,divs_l):\n",
    "            result[str(item_l.getText()).strip()]=str(item_r.getText()).strip()\n",
    "            print(item_l.getText(),item_r.getText())"
   ]
  },
  {
   "cell_type": "code",
   "execution_count": null,
   "metadata": {
    "collapsed": true
   },
   "outputs": [],
   "source": []
  }
 ],
 "metadata": {
  "kernelspec": {
   "display_name": "Python 3",
   "language": "python",
   "name": "python3"
  },
  "language_info": {
   "codemirror_mode": {
    "name": "ipython",
    "version": 3
   },
   "file_extension": ".py",
   "mimetype": "text/x-python",
   "name": "python",
   "nbconvert_exporter": "python",
   "pygments_lexer": "ipython3",
   "version": "3.6.1"
  }
 },
 "nbformat": 4,
 "nbformat_minor": 2
}
